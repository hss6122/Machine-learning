{
 "cells": [
  {
   "cell_type": "code",
   "execution_count": 1,
   "metadata": {},
   "outputs": [],
   "source": [
    "import warnings\n",
    "warnings.filterwarnings(\"ignore\")\n",
    "import pandas as pd\n",
    "import pandas_datareader.data as web\n",
    "import numpy as np\n",
    "import matplotlib.pyplot as plt\n",
    "%matplotlib inline\n",
    "\n",
    "from fbprophet import Prophet\n",
    "from datetime import datetime"
   ]
  },
  {
   "cell_type": "code",
   "execution_count": 2,
   "metadata": {},
   "outputs": [],
   "source": [
    "path = \"c:/Windows/Fonts/malgun.ttf\"\n",
    "import platform\n",
    "from matplotlib import font_manager, rc\n",
    "if platform.system() == 'Darwin':\n",
    "    rc('font', family='AppleGothic')\n",
    "elif platform.system() == 'Windows':\n",
    "    font_name = font_manager.FontProperties(fname=path).get_name()\n",
    "    rc('font', family=font_name)\n",
    "else:\n",
    "    print('Unknown system... sorry~~~~')    \n",
    "\n",
    "plt.rcParams['axes.unicode_minus'] = False"
   ]
  },
  {
   "cell_type": "code",
   "execution_count": 3,
   "metadata": {
    "collapsed": true
   },
   "outputs": [
    {
     "name": "stdout",
     "output_type": "stream",
     "text": [
      "Collecting yfinance\n",
      "  Downloading https://files.pythonhosted.org/packages/c2/31/8b374a12b90def92a4e27d0fc595fc43635f395984e36a075244d98bd265/yfinance-0.1.54.tar.gz\n",
      "Requirement already satisfied, skipping upgrade: pandas>=0.24 in c:\\program files\\tools\\anaconda3\\lib\\site-packages (from yfinance) (0.25.1)\n",
      "Requirement already satisfied, skipping upgrade: numpy>=1.15 in c:\\program files\\tools\\anaconda3\\lib\\site-packages (from yfinance) (1.16.5)\n",
      "Requirement already satisfied, skipping upgrade: requests>=2.20 in c:\\program files\\tools\\anaconda3\\lib\\site-packages (from yfinance) (2.22.0)\n",
      "Collecting multitasking>=0.0.7 (from yfinance)\n",
      "  Downloading https://files.pythonhosted.org/packages/69/e7/e9f1661c28f7b87abfa08cb0e8f51dad2240a9f4f741f02ea839835e6d18/multitasking-0.0.9.tar.gz\n",
      "Requirement already satisfied, skipping upgrade: python-dateutil>=2.6.1 in c:\\program files\\tools\\anaconda3\\lib\\site-packages (from pandas>=0.24->yfinance) (2.8.0)\n",
      "Requirement already satisfied, skipping upgrade: pytz>=2017.2 in c:\\program files\\tools\\anaconda3\\lib\\site-packages (from pandas>=0.24->yfinance) (2019.3)\n",
      "Requirement already satisfied, skipping upgrade: urllib3!=1.25.0,!=1.25.1,<1.26,>=1.21.1 in c:\\program files\\tools\\anaconda3\\lib\\site-packages (from requests>=2.20->yfinance) (1.24.2)\n",
      "Requirement already satisfied, skipping upgrade: idna<2.9,>=2.5 in c:\\program files\\tools\\anaconda3\\lib\\site-packages (from requests>=2.20->yfinance) (2.8)\n",
      "Requirement already satisfied, skipping upgrade: certifi>=2017.4.17 in c:\\program files\\tools\\anaconda3\\lib\\site-packages (from requests>=2.20->yfinance) (2019.9.11)\n",
      "Requirement already satisfied, skipping upgrade: chardet<3.1.0,>=3.0.2 in c:\\program files\\tools\\anaconda3\\lib\\site-packages (from requests>=2.20->yfinance) (3.0.4)\n",
      "Requirement already satisfied, skipping upgrade: six>=1.5 in c:\\program files\\tools\\anaconda3\\lib\\site-packages (from python-dateutil>=2.6.1->pandas>=0.24->yfinance) (1.12.0)\n",
      "Building wheels for collected packages: yfinance, multitasking\n",
      "  Building wheel for yfinance (setup.py): started\n",
      "  Building wheel for yfinance (setup.py): finished with status 'done'\n",
      "  Created wheel for yfinance: filename=yfinance-0.1.54-py2.py3-none-any.whl size=22414 sha256=b7ea5a6a2af3b3d9a29e7e39ab1bf77dcb424b727f0911dfe1e79f6422bcf7cd\n",
      "  Stored in directory: C:\\Users\\ADMINI~1\\AppData\\Local\\Temp\\pip-ephem-wheel-cache-cgdwd4v5\\wheels\\f9\\e3\\5b\\ec24dd2984b12d61e0abf26289746c2436a0e7844f26f2515c\n",
      "  Building wheel for multitasking (setup.py): started\n",
      "  Building wheel for multitasking (setup.py): finished with status 'done'\n",
      "  Created wheel for multitasking: filename=multitasking-0.0.9-cp37-none-any.whl size=8373 sha256=8c6949c7996a25b274d5cd9c728f95ebb55a105c92bcb308db0c2101e11bb223\n",
      "  Stored in directory: C:\\Users\\ADMINI~1\\AppData\\Local\\Temp\\pip-ephem-wheel-cache-cgdwd4v5\\wheels\\37\\fa\\73\\d492849e319038eb4d986f5152e4b19ffb1bc0639da84d2677\n",
      "Successfully built yfinance multitasking\n",
      "Installing collected packages: multitasking, yfinance\n",
      "Successfully installed multitasking-0.0.9 yfinance-0.1.54\n"
     ]
    }
   ],
   "source": [
    "!pip install yfinance --upgrade --no-cache-dir"
   ]
  },
  {
   "cell_type": "markdown",
   "metadata": {},
   "source": [
    "# yahoo 사이트의 finance 카테고리를 연결해서 주식 데이터를 얻을 수 있는 라이브러리"
   ]
  },
  {
   "cell_type": "code",
   "execution_count": 5,
   "metadata": {},
   "outputs": [],
   "source": [
    "import yfinance as yf"
   ]
  },
  {
   "cell_type": "code",
   "execution_count": 7,
   "metadata": {},
   "outputs": [],
   "source": [
    "from pandas_datareader import data\n",
    "# 데이터를 야후 등의 사이트에서 바로 받아 볼 수 있는 기능을 가진 라이브러리"
   ]
  },
  {
   "cell_type": "code",
   "execution_count": 8,
   "metadata": {},
   "outputs": [],
   "source": [
    "yf.pdr_override() # yahoo finace 에 연결하기 위한 초기화 작업"
   ]
  },
  {
   "cell_type": "code",
   "execution_count": 19,
   "metadata": {},
   "outputs": [],
   "source": [
    "start_date ='1990-1-1'\n",
    "end_date='2020-07-20'"
   ]
  },
  {
   "cell_type": "code",
   "execution_count": 20,
   "metadata": {},
   "outputs": [
    {
     "name": "stdout",
     "output_type": "stream",
     "text": [
      "[*********************100%***********************]  1 of 1 completed\n"
     ]
    }
   ],
   "source": [
    "KIA = data.get_data_yahoo('035720.KS',start_date,end_date)"
   ]
  },
  {
   "cell_type": "code",
   "execution_count": 21,
   "metadata": {},
   "outputs": [
    {
     "data": {
      "text/html": [
       "<div>\n",
       "<style scoped>\n",
       "    .dataframe tbody tr th:only-of-type {\n",
       "        vertical-align: middle;\n",
       "    }\n",
       "\n",
       "    .dataframe tbody tr th {\n",
       "        vertical-align: top;\n",
       "    }\n",
       "\n",
       "    .dataframe thead th {\n",
       "        text-align: right;\n",
       "    }\n",
       "</style>\n",
       "<table border=\"1\" class=\"dataframe\">\n",
       "  <thead>\n",
       "    <tr style=\"text-align: right;\">\n",
       "      <th></th>\n",
       "      <th>Open</th>\n",
       "      <th>High</th>\n",
       "      <th>Low</th>\n",
       "      <th>Close</th>\n",
       "      <th>Adj Close</th>\n",
       "      <th>Volume</th>\n",
       "    </tr>\n",
       "    <tr>\n",
       "      <th>Date</th>\n",
       "      <th></th>\n",
       "      <th></th>\n",
       "      <th></th>\n",
       "      <th></th>\n",
       "      <th></th>\n",
       "      <th></th>\n",
       "    </tr>\n",
       "  </thead>\n",
       "  <tbody>\n",
       "    <tr>\n",
       "      <td>2000-02-11</td>\n",
       "      <td>273000.0</td>\n",
       "      <td>273000.0</td>\n",
       "      <td>273000.0</td>\n",
       "      <td>273000.0</td>\n",
       "      <td>258278.734375</td>\n",
       "      <td>55300</td>\n",
       "    </tr>\n",
       "    <tr>\n",
       "      <td>2000-02-14</td>\n",
       "      <td>264000.0</td>\n",
       "      <td>298000.0</td>\n",
       "      <td>240500.0</td>\n",
       "      <td>247000.0</td>\n",
       "      <td>233680.750000</td>\n",
       "      <td>1254100</td>\n",
       "    </tr>\n",
       "    <tr>\n",
       "      <td>2000-02-15</td>\n",
       "      <td>250000.0</td>\n",
       "      <td>259000.0</td>\n",
       "      <td>217500.0</td>\n",
       "      <td>217500.0</td>\n",
       "      <td>205771.531250</td>\n",
       "      <td>648600</td>\n",
       "    </tr>\n",
       "    <tr>\n",
       "      <td>2000-02-16</td>\n",
       "      <td>210000.0</td>\n",
       "      <td>243500.0</td>\n",
       "      <td>200000.0</td>\n",
       "      <td>243500.0</td>\n",
       "      <td>230369.500000</td>\n",
       "      <td>871400</td>\n",
       "    </tr>\n",
       "    <tr>\n",
       "      <td>2000-02-17</td>\n",
       "      <td>246000.0</td>\n",
       "      <td>267500.0</td>\n",
       "      <td>235000.0</td>\n",
       "      <td>243500.0</td>\n",
       "      <td>230369.500000</td>\n",
       "      <td>1019800</td>\n",
       "    </tr>\n",
       "  </tbody>\n",
       "</table>\n",
       "</div>"
      ],
      "text/plain": [
       "                Open      High       Low     Close      Adj Close   Volume\n",
       "Date                                                                      \n",
       "2000-02-11  273000.0  273000.0  273000.0  273000.0  258278.734375    55300\n",
       "2000-02-14  264000.0  298000.0  240500.0  247000.0  233680.750000  1254100\n",
       "2000-02-15  250000.0  259000.0  217500.0  217500.0  205771.531250   648600\n",
       "2000-02-16  210000.0  243500.0  200000.0  243500.0  230369.500000   871400\n",
       "2000-02-17  246000.0  267500.0  235000.0  243500.0  230369.500000  1019800"
      ]
     },
     "execution_count": 21,
     "metadata": {},
     "output_type": "execute_result"
    }
   ],
   "source": [
    "KIA.head()"
   ]
  },
  {
   "cell_type": "code",
   "execution_count": 23,
   "metadata": {
    "scrolled": true
   },
   "outputs": [
    {
     "data": {
      "text/html": [
       "<div>\n",
       "<style scoped>\n",
       "    .dataframe tbody tr th:only-of-type {\n",
       "        vertical-align: middle;\n",
       "    }\n",
       "\n",
       "    .dataframe tbody tr th {\n",
       "        vertical-align: top;\n",
       "    }\n",
       "\n",
       "    .dataframe thead th {\n",
       "        text-align: right;\n",
       "    }\n",
       "</style>\n",
       "<table border=\"1\" class=\"dataframe\">\n",
       "  <thead>\n",
       "    <tr style=\"text-align: right;\">\n",
       "      <th></th>\n",
       "      <th>Open</th>\n",
       "      <th>High</th>\n",
       "      <th>Low</th>\n",
       "      <th>Close</th>\n",
       "      <th>Adj Close</th>\n",
       "      <th>Volume</th>\n",
       "    </tr>\n",
       "    <tr>\n",
       "      <th>Date</th>\n",
       "      <th></th>\n",
       "      <th></th>\n",
       "      <th></th>\n",
       "      <th></th>\n",
       "      <th></th>\n",
       "      <th></th>\n",
       "    </tr>\n",
       "  </thead>\n",
       "  <tbody>\n",
       "    <tr>\n",
       "      <td>2020-07-13</td>\n",
       "      <td>359000.0</td>\n",
       "      <td>361000.0</td>\n",
       "      <td>345000.0</td>\n",
       "      <td>352000.0</td>\n",
       "      <td>352000.0</td>\n",
       "      <td>1391744</td>\n",
       "    </tr>\n",
       "    <tr>\n",
       "      <td>2020-07-14</td>\n",
       "      <td>340500.0</td>\n",
       "      <td>346500.0</td>\n",
       "      <td>340000.0</td>\n",
       "      <td>343000.0</td>\n",
       "      <td>343000.0</td>\n",
       "      <td>1212519</td>\n",
       "    </tr>\n",
       "    <tr>\n",
       "      <td>2020-07-15</td>\n",
       "      <td>344000.0</td>\n",
       "      <td>349500.0</td>\n",
       "      <td>332000.0</td>\n",
       "      <td>337500.0</td>\n",
       "      <td>337500.0</td>\n",
       "      <td>1487417</td>\n",
       "    </tr>\n",
       "    <tr>\n",
       "      <td>2020-07-16</td>\n",
       "      <td>332000.0</td>\n",
       "      <td>335500.0</td>\n",
       "      <td>319000.0</td>\n",
       "      <td>322000.0</td>\n",
       "      <td>322000.0</td>\n",
       "      <td>1941508</td>\n",
       "    </tr>\n",
       "    <tr>\n",
       "      <td>2020-07-17</td>\n",
       "      <td>319000.0</td>\n",
       "      <td>327000.0</td>\n",
       "      <td>314000.0</td>\n",
       "      <td>325000.0</td>\n",
       "      <td>325000.0</td>\n",
       "      <td>1268587</td>\n",
       "    </tr>\n",
       "  </tbody>\n",
       "</table>\n",
       "</div>"
      ],
      "text/plain": [
       "                Open      High       Low     Close  Adj Close   Volume\n",
       "Date                                                                  \n",
       "2020-07-13  359000.0  361000.0  345000.0  352000.0   352000.0  1391744\n",
       "2020-07-14  340500.0  346500.0  340000.0  343000.0   343000.0  1212519\n",
       "2020-07-15  344000.0  349500.0  332000.0  337500.0   337500.0  1487417\n",
       "2020-07-16  332000.0  335500.0  319000.0  322000.0   322000.0  1941508\n",
       "2020-07-17  319000.0  327000.0  314000.0  325000.0   325000.0  1268587"
      ]
     },
     "execution_count": 23,
     "metadata": {},
     "output_type": "execute_result"
    }
   ],
   "source": [
    "KIA.tail()"
   ]
  },
  {
   "cell_type": "code",
   "execution_count": 27,
   "metadata": {
    "scrolled": false
   },
   "outputs": [
    {
     "data": {
      "text/plain": [
       "<AxesSubplot:xlabel='Date'>"
      ]
     },
     "execution_count": 27,
     "metadata": {},
     "output_type": "execute_result"
    },
    {
     "data": {
      "image/png": "[encoded data removed]",
      "text/plain": [
       "<Figure size 864x288 with 1 Axes>"
      ]
     },
     "metadata": {
      "needs_background": "light"
     },
     "output_type": "display_data"
    }
   ],
   "source": [
    "KIA['Close'].plot(figsize=(12,4),grid=True)"
   ]
  },
  {
   "cell_type": "code",
   "execution_count": 28,
   "metadata": {},
   "outputs": [
    {
     "name": "stdout",
     "output_type": "stream",
     "text": [
      "[*********************100%***********************]  1 of 1 completed\n"
     ]
    }
   ],
   "source": [
    "Tesla = data.get_data_yahoo('TSLA',start_date,end_date)"
   ]
  },
  {
   "cell_type": "code",
   "execution_count": 29,
   "metadata": {},
   "outputs": [
    {
     "data": {
      "text/html": [
       "<div>\n",
       "<style scoped>\n",
       "    .dataframe tbody tr th:only-of-type {\n",
       "        vertical-align: middle;\n",
       "    }\n",
       "\n",
       "    .dataframe tbody tr th {\n",
       "        vertical-align: top;\n",
       "    }\n",
       "\n",
       "    .dataframe thead th {\n",
       "        text-align: right;\n",
       "    }\n",
       "</style>\n",
       "<table border=\"1\" class=\"dataframe\">\n",
       "  <thead>\n",
       "    <tr style=\"text-align: right;\">\n",
       "      <th></th>\n",
       "      <th>Open</th>\n",
       "      <th>High</th>\n",
       "      <th>Low</th>\n",
       "      <th>Close</th>\n",
       "      <th>Adj Close</th>\n",
       "      <th>Volume</th>\n",
       "    </tr>\n",
       "    <tr>\n",
       "      <th>Date</th>\n",
       "      <th></th>\n",
       "      <th></th>\n",
       "      <th></th>\n",
       "      <th></th>\n",
       "      <th></th>\n",
       "      <th></th>\n",
       "    </tr>\n",
       "  </thead>\n",
       "  <tbody>\n",
       "    <tr>\n",
       "      <td>2010-06-29</td>\n",
       "      <td>19.000000</td>\n",
       "      <td>25.00</td>\n",
       "      <td>17.540001</td>\n",
       "      <td>23.889999</td>\n",
       "      <td>23.889999</td>\n",
       "      <td>18766300</td>\n",
       "    </tr>\n",
       "    <tr>\n",
       "      <td>2010-06-30</td>\n",
       "      <td>25.790001</td>\n",
       "      <td>30.42</td>\n",
       "      <td>23.299999</td>\n",
       "      <td>23.830000</td>\n",
       "      <td>23.830000</td>\n",
       "      <td>17187100</td>\n",
       "    </tr>\n",
       "    <tr>\n",
       "      <td>2010-07-01</td>\n",
       "      <td>25.000000</td>\n",
       "      <td>25.92</td>\n",
       "      <td>20.270000</td>\n",
       "      <td>21.959999</td>\n",
       "      <td>21.959999</td>\n",
       "      <td>8218800</td>\n",
       "    </tr>\n",
       "    <tr>\n",
       "      <td>2010-07-02</td>\n",
       "      <td>23.000000</td>\n",
       "      <td>23.10</td>\n",
       "      <td>18.709999</td>\n",
       "      <td>19.200001</td>\n",
       "      <td>19.200001</td>\n",
       "      <td>5139800</td>\n",
       "    </tr>\n",
       "    <tr>\n",
       "      <td>2010-07-06</td>\n",
       "      <td>20.000000</td>\n",
       "      <td>20.00</td>\n",
       "      <td>15.830000</td>\n",
       "      <td>16.110001</td>\n",
       "      <td>16.110001</td>\n",
       "      <td>6866900</td>\n",
       "    </tr>\n",
       "  </tbody>\n",
       "</table>\n",
       "</div>"
      ],
      "text/plain": [
       "                 Open   High        Low      Close  Adj Close    Volume\n",
       "Date                                                                   \n",
       "2010-06-29  19.000000  25.00  17.540001  23.889999  23.889999  18766300\n",
       "2010-06-30  25.790001  30.42  23.299999  23.830000  23.830000  17187100\n",
       "2010-07-01  25.000000  25.92  20.270000  21.959999  21.959999   8218800\n",
       "2010-07-02  23.000000  23.10  18.709999  19.200001  19.200001   5139800\n",
       "2010-07-06  20.000000  20.00  15.830000  16.110001  16.110001   6866900"
      ]
     },
     "execution_count": 29,
     "metadata": {},
     "output_type": "execute_result"
    }
   ],
   "source": [
    "Tesla.head()"
   ]
  },
  {
   "cell_type": "code",
   "execution_count": 30,
   "metadata": {},
   "outputs": [
    {
     "data": {
      "text/html": [
       "<div>\n",
       "<style scoped>\n",
       "    .dataframe tbody tr th:only-of-type {\n",
       "        vertical-align: middle;\n",
       "    }\n",
       "\n",
       "    .dataframe tbody tr th {\n",
       "        vertical-align: top;\n",
       "    }\n",
       "\n",
       "    .dataframe thead th {\n",
       "        text-align: right;\n",
       "    }\n",
       "</style>\n",
       "<table border=\"1\" class=\"dataframe\">\n",
       "  <thead>\n",
       "    <tr style=\"text-align: right;\">\n",
       "      <th></th>\n",
       "      <th>Open</th>\n",
       "      <th>High</th>\n",
       "      <th>Low</th>\n",
       "      <th>Close</th>\n",
       "      <th>Adj Close</th>\n",
       "      <th>Volume</th>\n",
       "    </tr>\n",
       "    <tr>\n",
       "      <th>Date</th>\n",
       "      <th></th>\n",
       "      <th></th>\n",
       "      <th></th>\n",
       "      <th></th>\n",
       "      <th></th>\n",
       "      <th></th>\n",
       "    </tr>\n",
       "  </thead>\n",
       "  <tbody>\n",
       "    <tr>\n",
       "      <td>2020-07-13</td>\n",
       "      <td>1659.000000</td>\n",
       "      <td>1794.989990</td>\n",
       "      <td>1471.109985</td>\n",
       "      <td>1497.060059</td>\n",
       "      <td>1497.060059</td>\n",
       "      <td>38985400</td>\n",
       "    </tr>\n",
       "    <tr>\n",
       "      <td>2020-07-14</td>\n",
       "      <td>1556.000000</td>\n",
       "      <td>1590.000000</td>\n",
       "      <td>1431.000000</td>\n",
       "      <td>1516.800049</td>\n",
       "      <td>1516.800049</td>\n",
       "      <td>23418100</td>\n",
       "    </tr>\n",
       "    <tr>\n",
       "      <td>2020-07-15</td>\n",
       "      <td>1543.000000</td>\n",
       "      <td>1550.000000</td>\n",
       "      <td>1457.000000</td>\n",
       "      <td>1546.010010</td>\n",
       "      <td>1546.010010</td>\n",
       "      <td>16367800</td>\n",
       "    </tr>\n",
       "    <tr>\n",
       "      <td>2020-07-16</td>\n",
       "      <td>1477.160034</td>\n",
       "      <td>1531.709961</td>\n",
       "      <td>1466.000000</td>\n",
       "      <td>1500.640015</td>\n",
       "      <td>1500.640015</td>\n",
       "      <td>14300800</td>\n",
       "    </tr>\n",
       "    <tr>\n",
       "      <td>2020-07-17</td>\n",
       "      <td>1513.449951</td>\n",
       "      <td>1537.510010</td>\n",
       "      <td>1490.000000</td>\n",
       "      <td>1500.839966</td>\n",
       "      <td>1500.839966</td>\n",
       "      <td>9330000</td>\n",
       "    </tr>\n",
       "  </tbody>\n",
       "</table>\n",
       "</div>"
      ],
      "text/plain": [
       "                   Open         High          Low        Close    Adj Close  \\\n",
       "Date                                                                          \n",
       "2020-07-13  1659.000000  1794.989990  1471.109985  1497.060059  1497.060059   \n",
       "2020-07-14  1556.000000  1590.000000  1431.000000  1516.800049  1516.800049   \n",
       "2020-07-15  1543.000000  1550.000000  1457.000000  1546.010010  1546.010010   \n",
       "2020-07-16  1477.160034  1531.709961  1466.000000  1500.640015  1500.640015   \n",
       "2020-07-17  1513.449951  1537.510010  1490.000000  1500.839966  1500.839966   \n",
       "\n",
       "              Volume  \n",
       "Date                  \n",
       "2020-07-13  38985400  \n",
       "2020-07-14  23418100  \n",
       "2020-07-15  16367800  \n",
       "2020-07-16  14300800  \n",
       "2020-07-17   9330000  "
      ]
     },
     "execution_count": 30,
     "metadata": {},
     "output_type": "execute_result"
    }
   ],
   "source": [
    "Tesla.tail()"
   ]
  },
  {
   "cell_type": "code",
   "execution_count": 33,
   "metadata": {},
   "outputs": [
    {
     "data": {
      "text/plain": [
       "<AxesSubplot:xlabel='Date'>"
      ]
     },
     "execution_count": 33,
     "metadata": {},
     "output_type": "execute_result"
    },
    {
     "data": {
      "image/png": "[encoded data removed]",
      "text/plain": [
       "<Figure size 864x288 with 1 Axes>"
      ]
     },
     "metadata": {
      "needs_background": "light"
     },
     "output_type": "display_data"
    }
   ],
   "source": [
    "Tesla['Close'].plot(figsize=(12,4),grid=True)"
   ]
  },
  {
   "cell_type": "code",
   "execution_count": 34,
   "metadata": {},
   "outputs": [],
   "source": [
    "# facebook 의 예측 모델로 사용하려면 2가지를 해야한다,\n",
    "# 날짜가 들어간 열이름을 ds로, 예측값이 들어간 열이름을 y로 설정한다.\n",
    "#데이터 프레임으로 만들어주어야함"
   ]
  },
  {
   "cell_type": "code",
   "execution_count": 43,
   "metadata": {
    "scrolled": true
   },
   "outputs": [
    {
     "data": {
      "text/html": [
       "<div>\n",
       "<style scoped>\n",
       "    .dataframe tbody tr th:only-of-type {\n",
       "        vertical-align: middle;\n",
       "    }\n",
       "\n",
       "    .dataframe tbody tr th {\n",
       "        vertical-align: top;\n",
       "    }\n",
       "\n",
       "    .dataframe thead th {\n",
       "        text-align: right;\n",
       "    }\n",
       "</style>\n",
       "<table border=\"1\" class=\"dataframe\">\n",
       "  <thead>\n",
       "    <tr style=\"text-align: right;\">\n",
       "      <th></th>\n",
       "      <th>Open</th>\n",
       "      <th>High</th>\n",
       "      <th>Low</th>\n",
       "      <th>Close</th>\n",
       "      <th>Adj Close</th>\n",
       "      <th>Volume</th>\n",
       "    </tr>\n",
       "    <tr>\n",
       "      <th>Date</th>\n",
       "      <th></th>\n",
       "      <th></th>\n",
       "      <th></th>\n",
       "      <th></th>\n",
       "      <th></th>\n",
       "      <th></th>\n",
       "    </tr>\n",
       "  </thead>\n",
       "  <tbody>\n",
       "    <tr>\n",
       "      <td>2010-06-29</td>\n",
       "      <td>19.000000</td>\n",
       "      <td>25.000000</td>\n",
       "      <td>17.540001</td>\n",
       "      <td>23.889999</td>\n",
       "      <td>23.889999</td>\n",
       "      <td>18766300</td>\n",
       "    </tr>\n",
       "    <tr>\n",
       "      <td>2010-06-30</td>\n",
       "      <td>25.790001</td>\n",
       "      <td>30.420000</td>\n",
       "      <td>23.299999</td>\n",
       "      <td>23.830000</td>\n",
       "      <td>23.830000</td>\n",
       "      <td>17187100</td>\n",
       "    </tr>\n",
       "    <tr>\n",
       "      <td>2010-07-01</td>\n",
       "      <td>25.000000</td>\n",
       "      <td>25.920000</td>\n",
       "      <td>20.270000</td>\n",
       "      <td>21.959999</td>\n",
       "      <td>21.959999</td>\n",
       "      <td>8218800</td>\n",
       "    </tr>\n",
       "    <tr>\n",
       "      <td>2010-07-02</td>\n",
       "      <td>23.000000</td>\n",
       "      <td>23.100000</td>\n",
       "      <td>18.709999</td>\n",
       "      <td>19.200001</td>\n",
       "      <td>19.200001</td>\n",
       "      <td>5139800</td>\n",
       "    </tr>\n",
       "    <tr>\n",
       "      <td>2010-07-06</td>\n",
       "      <td>20.000000</td>\n",
       "      <td>20.000000</td>\n",
       "      <td>15.830000</td>\n",
       "      <td>16.110001</td>\n",
       "      <td>16.110001</td>\n",
       "      <td>6866900</td>\n",
       "    </tr>\n",
       "    <tr>\n",
       "      <td>...</td>\n",
       "      <td>...</td>\n",
       "      <td>...</td>\n",
       "      <td>...</td>\n",
       "      <td>...</td>\n",
       "      <td>...</td>\n",
       "      <td>...</td>\n",
       "    </tr>\n",
       "    <tr>\n",
       "      <td>2020-07-13</td>\n",
       "      <td>1659.000000</td>\n",
       "      <td>1794.989990</td>\n",
       "      <td>1471.109985</td>\n",
       "      <td>1497.060059</td>\n",
       "      <td>1497.060059</td>\n",
       "      <td>38985400</td>\n",
       "    </tr>\n",
       "    <tr>\n",
       "      <td>2020-07-14</td>\n",
       "      <td>1556.000000</td>\n",
       "      <td>1590.000000</td>\n",
       "      <td>1431.000000</td>\n",
       "      <td>1516.800049</td>\n",
       "      <td>1516.800049</td>\n",
       "      <td>23418100</td>\n",
       "    </tr>\n",
       "    <tr>\n",
       "      <td>2020-07-15</td>\n",
       "      <td>1543.000000</td>\n",
       "      <td>1550.000000</td>\n",
       "      <td>1457.000000</td>\n",
       "      <td>1546.010010</td>\n",
       "      <td>1546.010010</td>\n",
       "      <td>16367800</td>\n",
       "    </tr>\n",
       "    <tr>\n",
       "      <td>2020-07-16</td>\n",
       "      <td>1477.160034</td>\n",
       "      <td>1531.709961</td>\n",
       "      <td>1466.000000</td>\n",
       "      <td>1500.640015</td>\n",
       "      <td>1500.640015</td>\n",
       "      <td>14300800</td>\n",
       "    </tr>\n",
       "    <tr>\n",
       "      <td>2020-07-17</td>\n",
       "      <td>1513.449951</td>\n",
       "      <td>1537.510010</td>\n",
       "      <td>1490.000000</td>\n",
       "      <td>1500.839966</td>\n",
       "      <td>1500.839966</td>\n",
       "      <td>9330000</td>\n",
       "    </tr>\n",
       "  </tbody>\n",
       "</table>\n",
       "<p>2531 rows × 6 columns</p>\n",
       "</div>"
      ],
      "text/plain": [
       "                   Open         High          Low        Close    Adj Close  \\\n",
       "Date                                                                          \n",
       "2010-06-29    19.000000    25.000000    17.540001    23.889999    23.889999   \n",
       "2010-06-30    25.790001    30.420000    23.299999    23.830000    23.830000   \n",
       "2010-07-01    25.000000    25.920000    20.270000    21.959999    21.959999   \n",
       "2010-07-02    23.000000    23.100000    18.709999    19.200001    19.200001   \n",
       "2010-07-06    20.000000    20.000000    15.830000    16.110001    16.110001   \n",
       "...                 ...          ...          ...          ...          ...   \n",
       "2020-07-13  1659.000000  1794.989990  1471.109985  1497.060059  1497.060059   \n",
       "2020-07-14  1556.000000  1590.000000  1431.000000  1516.800049  1516.800049   \n",
       "2020-07-15  1543.000000  1550.000000  1457.000000  1546.010010  1546.010010   \n",
       "2020-07-16  1477.160034  1531.709961  1466.000000  1500.640015  1500.640015   \n",
       "2020-07-17  1513.449951  1537.510010  1490.000000  1500.839966  1500.839966   \n",
       "\n",
       "              Volume  \n",
       "Date                  \n",
       "2010-06-29  18766300  \n",
       "2010-06-30  17187100  \n",
       "2010-07-01   8218800  \n",
       "2010-07-02   5139800  \n",
       "2010-07-06   6866900  \n",
       "...              ...  \n",
       "2020-07-13  38985400  \n",
       "2020-07-14  23418100  \n",
       "2020-07-15  16367800  \n",
       "2020-07-16  14300800  \n",
       "2020-07-17   9330000  \n",
       "\n",
       "[2531 rows x 6 columns]"
      ]
     },
     "execution_count": 43,
     "metadata": {},
     "output_type": "execute_result"
    }
   ],
   "source": [
    "\n",
    "Tesla_trunc = Tesla[:'2020-07-20']\n",
    "Tesla_trunc"
   ]
  },
  {
   "cell_type": "code",
   "execution_count": 44,
   "metadata": {},
   "outputs": [
    {
     "data": {
      "text/html": [
       "<div>\n",
       "<style scoped>\n",
       "    .dataframe tbody tr th:only-of-type {\n",
       "        vertical-align: middle;\n",
       "    }\n",
       "\n",
       "    .dataframe tbody tr th {\n",
       "        vertical-align: top;\n",
       "    }\n",
       "\n",
       "    .dataframe thead th {\n",
       "        text-align: right;\n",
       "    }\n",
       "</style>\n",
       "<table border=\"1\" class=\"dataframe\">\n",
       "  <thead>\n",
       "    <tr style=\"text-align: right;\">\n",
       "      <th></th>\n",
       "      <th>ds</th>\n",
       "      <th>y</th>\n",
       "    </tr>\n",
       "  </thead>\n",
       "  <tbody>\n",
       "    <tr>\n",
       "      <td>0</td>\n",
       "      <td>2010-06-29</td>\n",
       "      <td>23.889999</td>\n",
       "    </tr>\n",
       "    <tr>\n",
       "      <td>1</td>\n",
       "      <td>2010-06-30</td>\n",
       "      <td>23.830000</td>\n",
       "    </tr>\n",
       "    <tr>\n",
       "      <td>2</td>\n",
       "      <td>2010-07-01</td>\n",
       "      <td>21.959999</td>\n",
       "    </tr>\n",
       "    <tr>\n",
       "      <td>3</td>\n",
       "      <td>2010-07-02</td>\n",
       "      <td>19.200001</td>\n",
       "    </tr>\n",
       "    <tr>\n",
       "      <td>4</td>\n",
       "      <td>2010-07-06</td>\n",
       "      <td>16.110001</td>\n",
       "    </tr>\n",
       "  </tbody>\n",
       "</table>\n",
       "</div>"
      ],
      "text/plain": [
       "          ds          y\n",
       "0 2010-06-29  23.889999\n",
       "1 2010-06-30  23.830000\n",
       "2 2010-07-01  21.959999\n",
       "3 2010-07-02  19.200001\n",
       "4 2010-07-06  16.110001"
      ]
     },
     "execution_count": 44,
     "metadata": {},
     "output_type": "execute_result"
    }
   ],
   "source": [
    "df = pd.DataFrame({'ds':Tesla_trunc.index, 'y':Tesla_trunc['Close']})\n",
    "df.reset_index(inplace=True)\n",
    "del df['Date']\n",
    "df.head()"
   ]
  },
  {
   "cell_type": "code",
   "execution_count": 45,
   "metadata": {},
   "outputs": [],
   "source": [
    "m = Prophet(daily_seasonality=True)\n",
    "m.fit(df);"
   ]
  },
  {
   "cell_type": "code",
   "execution_count": 46,
   "metadata": {
    "scrolled": true
   },
   "outputs": [
    {
     "data": {
      "text/html": [
       "<div>\n",
       "<style scoped>\n",
       "    .dataframe tbody tr th:only-of-type {\n",
       "        vertical-align: middle;\n",
       "    }\n",
       "\n",
       "    .dataframe tbody tr th {\n",
       "        vertical-align: top;\n",
       "    }\n",
       "\n",
       "    .dataframe thead th {\n",
       "        text-align: right;\n",
       "    }\n",
       "</style>\n",
       "<table border=\"1\" class=\"dataframe\">\n",
       "  <thead>\n",
       "    <tr style=\"text-align: right;\">\n",
       "      <th></th>\n",
       "      <th>ds</th>\n",
       "    </tr>\n",
       "  </thead>\n",
       "  <tbody>\n",
       "    <tr>\n",
       "      <td>2891</td>\n",
       "      <td>2021-07-13</td>\n",
       "    </tr>\n",
       "    <tr>\n",
       "      <td>2892</td>\n",
       "      <td>2021-07-14</td>\n",
       "    </tr>\n",
       "    <tr>\n",
       "      <td>2893</td>\n",
       "      <td>2021-07-15</td>\n",
       "    </tr>\n",
       "    <tr>\n",
       "      <td>2894</td>\n",
       "      <td>2021-07-16</td>\n",
       "    </tr>\n",
       "    <tr>\n",
       "      <td>2895</td>\n",
       "      <td>2021-07-17</td>\n",
       "    </tr>\n",
       "  </tbody>\n",
       "</table>\n",
       "</div>"
      ],
      "text/plain": [
       "             ds\n",
       "2891 2021-07-13\n",
       "2892 2021-07-14\n",
       "2893 2021-07-15\n",
       "2894 2021-07-16\n",
       "2895 2021-07-17"
      ]
     },
     "execution_count": 46,
     "metadata": {},
     "output_type": "execute_result"
    }
   ],
   "source": [
    "future = m.make_future_dataframe(periods=365)\n",
    "future.tail()"
   ]
  },
  {
   "cell_type": "code",
   "execution_count": 47,
   "metadata": {},
   "outputs": [],
   "source": [
    "forecast = m.predict(future)"
   ]
  },
  {
   "cell_type": "code",
   "execution_count": 48,
   "metadata": {
    "scrolled": true
   },
   "outputs": [
    {
     "data": {
      "image/png": "[encoded data removed]",
      "text/plain": [
       "<Figure size 720x432 with 1 Axes>"
      ]
     },
     "metadata": {},
     "output_type": "display_data"
    }
   ],
   "source": [
    "m.plot(forecast);"
   ]
  },
  {
   "cell_type": "markdown",
   "metadata": {},
   "source": [
    "# 아마존"
   ]
  },
  {
   "cell_type": "code",
   "execution_count": 49,
   "metadata": {},
   "outputs": [
    {
     "name": "stdout",
     "output_type": "stream",
     "text": [
      "[*********************100%***********************]  1 of 1 completed\n"
     ]
    }
   ],
   "source": [
    "aws = data.get_data_yahoo('AMZN',start_date,end_date)"
   ]
  },
  {
   "cell_type": "code",
   "execution_count": 50,
   "metadata": {
    "scrolled": true
   },
   "outputs": [
    {
     "data": {
      "text/plain": [
       "<AxesSubplot:xlabel='Date'>"
      ]
     },
     "execution_count": 50,
     "metadata": {},
     "output_type": "execute_result"
    },
    {
     "data": {
      "image/png": "[encoded data removed]",
      "text/plain": [
       "<Figure size 864x288 with 1 Axes>"
      ]
     },
     "metadata": {
      "needs_background": "light"
     },
     "output_type": "display_data"
    }
   ],
   "source": [
    "aws['Close'].plot(figsize=(12,4),grid=True)"
   ]
  },
  {
   "cell_type": "code",
   "execution_count": 51,
   "metadata": {
    "scrolled": true
   },
   "outputs": [
    {
     "data": {
      "text/html": [
       "<div>\n",
       "<style scoped>\n",
       "    .dataframe tbody tr th:only-of-type {\n",
       "        vertical-align: middle;\n",
       "    }\n",
       "\n",
       "    .dataframe tbody tr th {\n",
       "        vertical-align: top;\n",
       "    }\n",
       "\n",
       "    .dataframe thead th {\n",
       "        text-align: right;\n",
       "    }\n",
       "</style>\n",
       "<table border=\"1\" class=\"dataframe\">\n",
       "  <thead>\n",
       "    <tr style=\"text-align: right;\">\n",
       "      <th></th>\n",
       "      <th>Open</th>\n",
       "      <th>High</th>\n",
       "      <th>Low</th>\n",
       "      <th>Close</th>\n",
       "      <th>Adj Close</th>\n",
       "      <th>Volume</th>\n",
       "    </tr>\n",
       "    <tr>\n",
       "      <th>Date</th>\n",
       "      <th></th>\n",
       "      <th></th>\n",
       "      <th></th>\n",
       "      <th></th>\n",
       "      <th></th>\n",
       "      <th></th>\n",
       "    </tr>\n",
       "  </thead>\n",
       "  <tbody>\n",
       "    <tr>\n",
       "      <td>1997-05-15</td>\n",
       "      <td>2.437500</td>\n",
       "      <td>2.500000</td>\n",
       "      <td>1.927083</td>\n",
       "      <td>1.958333</td>\n",
       "      <td>1.958333</td>\n",
       "      <td>72156000</td>\n",
       "    </tr>\n",
       "    <tr>\n",
       "      <td>1997-05-16</td>\n",
       "      <td>1.968750</td>\n",
       "      <td>1.979167</td>\n",
       "      <td>1.708333</td>\n",
       "      <td>1.729167</td>\n",
       "      <td>1.729167</td>\n",
       "      <td>14700000</td>\n",
       "    </tr>\n",
       "    <tr>\n",
       "      <td>1997-05-19</td>\n",
       "      <td>1.760417</td>\n",
       "      <td>1.770833</td>\n",
       "      <td>1.625000</td>\n",
       "      <td>1.708333</td>\n",
       "      <td>1.708333</td>\n",
       "      <td>6106800</td>\n",
       "    </tr>\n",
       "    <tr>\n",
       "      <td>1997-05-20</td>\n",
       "      <td>1.729167</td>\n",
       "      <td>1.750000</td>\n",
       "      <td>1.635417</td>\n",
       "      <td>1.635417</td>\n",
       "      <td>1.635417</td>\n",
       "      <td>5467200</td>\n",
       "    </tr>\n",
       "    <tr>\n",
       "      <td>1997-05-21</td>\n",
       "      <td>1.635417</td>\n",
       "      <td>1.645833</td>\n",
       "      <td>1.375000</td>\n",
       "      <td>1.427083</td>\n",
       "      <td>1.427083</td>\n",
       "      <td>18853200</td>\n",
       "    </tr>\n",
       "    <tr>\n",
       "      <td>...</td>\n",
       "      <td>...</td>\n",
       "      <td>...</td>\n",
       "      <td>...</td>\n",
       "      <td>...</td>\n",
       "      <td>...</td>\n",
       "      <td>...</td>\n",
       "    </tr>\n",
       "    <tr>\n",
       "      <td>2020-07-13</td>\n",
       "      <td>3251.060059</td>\n",
       "      <td>3344.290039</td>\n",
       "      <td>3068.389893</td>\n",
       "      <td>3104.000000</td>\n",
       "      <td>3104.000000</td>\n",
       "      <td>7720400</td>\n",
       "    </tr>\n",
       "    <tr>\n",
       "      <td>2020-07-14</td>\n",
       "      <td>3089.000000</td>\n",
       "      <td>3127.379883</td>\n",
       "      <td>2950.000000</td>\n",
       "      <td>3084.000000</td>\n",
       "      <td>3084.000000</td>\n",
       "      <td>7231900</td>\n",
       "    </tr>\n",
       "    <tr>\n",
       "      <td>2020-07-15</td>\n",
       "      <td>3080.229980</td>\n",
       "      <td>3098.350098</td>\n",
       "      <td>2973.179932</td>\n",
       "      <td>3008.870117</td>\n",
       "      <td>3008.870117</td>\n",
       "      <td>5788900</td>\n",
       "    </tr>\n",
       "    <tr>\n",
       "      <td>2020-07-16</td>\n",
       "      <td>2971.060059</td>\n",
       "      <td>3032.000000</td>\n",
       "      <td>2918.229980</td>\n",
       "      <td>2999.899902</td>\n",
       "      <td>2999.899902</td>\n",
       "      <td>6394200</td>\n",
       "    </tr>\n",
       "    <tr>\n",
       "      <td>2020-07-17</td>\n",
       "      <td>3009.000000</td>\n",
       "      <td>3024.000000</td>\n",
       "      <td>2948.449951</td>\n",
       "      <td>2961.969971</td>\n",
       "      <td>2961.969971</td>\n",
       "      <td>4761300</td>\n",
       "    </tr>\n",
       "  </tbody>\n",
       "</table>\n",
       "<p>5832 rows × 6 columns</p>\n",
       "</div>"
      ],
      "text/plain": [
       "                   Open         High          Low        Close    Adj Close  \\\n",
       "Date                                                                          \n",
       "1997-05-15     2.437500     2.500000     1.927083     1.958333     1.958333   \n",
       "1997-05-16     1.968750     1.979167     1.708333     1.729167     1.729167   \n",
       "1997-05-19     1.760417     1.770833     1.625000     1.708333     1.708333   \n",
       "1997-05-20     1.729167     1.750000     1.635417     1.635417     1.635417   \n",
       "1997-05-21     1.635417     1.645833     1.375000     1.427083     1.427083   \n",
       "...                 ...          ...          ...          ...          ...   \n",
       "2020-07-13  3251.060059  3344.290039  3068.389893  3104.000000  3104.000000   \n",
       "2020-07-14  3089.000000  3127.379883  2950.000000  3084.000000  3084.000000   \n",
       "2020-07-15  3080.229980  3098.350098  2973.179932  3008.870117  3008.870117   \n",
       "2020-07-16  2971.060059  3032.000000  2918.229980  2999.899902  2999.899902   \n",
       "2020-07-17  3009.000000  3024.000000  2948.449951  2961.969971  2961.969971   \n",
       "\n",
       "              Volume  \n",
       "Date                  \n",
       "1997-05-15  72156000  \n",
       "1997-05-16  14700000  \n",
       "1997-05-19   6106800  \n",
       "1997-05-20   5467200  \n",
       "1997-05-21  18853200  \n",
       "...              ...  \n",
       "2020-07-13   7720400  \n",
       "2020-07-14   7231900  \n",
       "2020-07-15   5788900  \n",
       "2020-07-16   6394200  \n",
       "2020-07-17   4761300  \n",
       "\n",
       "[5832 rows x 6 columns]"
      ]
     },
     "execution_count": 51,
     "metadata": {},
     "output_type": "execute_result"
    }
   ],
   "source": [
    "aws_trunc = aws[:'2020-07-20']\n",
    "aws_trunc"
   ]
  },
  {
   "cell_type": "code",
   "execution_count": 52,
   "metadata": {},
   "outputs": [
    {
     "data": {
      "text/html": [
       "<div>\n",
       "<style scoped>\n",
       "    .dataframe tbody tr th:only-of-type {\n",
       "        vertical-align: middle;\n",
       "    }\n",
       "\n",
       "    .dataframe tbody tr th {\n",
       "        vertical-align: top;\n",
       "    }\n",
       "\n",
       "    .dataframe thead th {\n",
       "        text-align: right;\n",
       "    }\n",
       "</style>\n",
       "<table border=\"1\" class=\"dataframe\">\n",
       "  <thead>\n",
       "    <tr style=\"text-align: right;\">\n",
       "      <th></th>\n",
       "      <th>ds</th>\n",
       "      <th>y</th>\n",
       "    </tr>\n",
       "  </thead>\n",
       "  <tbody>\n",
       "    <tr>\n",
       "      <td>0</td>\n",
       "      <td>1997-05-15</td>\n",
       "      <td>1.958333</td>\n",
       "    </tr>\n",
       "    <tr>\n",
       "      <td>1</td>\n",
       "      <td>1997-05-16</td>\n",
       "      <td>1.729167</td>\n",
       "    </tr>\n",
       "    <tr>\n",
       "      <td>2</td>\n",
       "      <td>1997-05-19</td>\n",
       "      <td>1.708333</td>\n",
       "    </tr>\n",
       "    <tr>\n",
       "      <td>3</td>\n",
       "      <td>1997-05-20</td>\n",
       "      <td>1.635417</td>\n",
       "    </tr>\n",
       "    <tr>\n",
       "      <td>4</td>\n",
       "      <td>1997-05-21</td>\n",
       "      <td>1.427083</td>\n",
       "    </tr>\n",
       "  </tbody>\n",
       "</table>\n",
       "</div>"
      ],
      "text/plain": [
       "          ds         y\n",
       "0 1997-05-15  1.958333\n",
       "1 1997-05-16  1.729167\n",
       "2 1997-05-19  1.708333\n",
       "3 1997-05-20  1.635417\n",
       "4 1997-05-21  1.427083"
      ]
     },
     "execution_count": 52,
     "metadata": {},
     "output_type": "execute_result"
    }
   ],
   "source": [
    "df = pd.DataFrame({'ds':aws_trunc.index, 'y':aws_trunc['Close']})\n",
    "df.reset_index(inplace=True)\n",
    "del df['Date']\n",
    "df.head()"
   ]
  },
  {
   "cell_type": "code",
   "execution_count": 53,
   "metadata": {},
   "outputs": [],
   "source": [
    "m = Prophet(daily_seasonality=True)\n",
    "m.fit(df);"
   ]
  },
  {
   "cell_type": "code",
   "execution_count": 54,
   "metadata": {},
   "outputs": [
    {
     "data": {
      "text/html": [
       "<div>\n",
       "<style scoped>\n",
       "    .dataframe tbody tr th:only-of-type {\n",
       "        vertical-align: middle;\n",
       "    }\n",
       "\n",
       "    .dataframe tbody tr th {\n",
       "        vertical-align: top;\n",
       "    }\n",
       "\n",
       "    .dataframe thead th {\n",
       "        text-align: right;\n",
       "    }\n",
       "</style>\n",
       "<table border=\"1\" class=\"dataframe\">\n",
       "  <thead>\n",
       "    <tr style=\"text-align: right;\">\n",
       "      <th></th>\n",
       "      <th>ds</th>\n",
       "    </tr>\n",
       "  </thead>\n",
       "  <tbody>\n",
       "    <tr>\n",
       "      <td>6192</td>\n",
       "      <td>2021-07-13</td>\n",
       "    </tr>\n",
       "    <tr>\n",
       "      <td>6193</td>\n",
       "      <td>2021-07-14</td>\n",
       "    </tr>\n",
       "    <tr>\n",
       "      <td>6194</td>\n",
       "      <td>2021-07-15</td>\n",
       "    </tr>\n",
       "    <tr>\n",
       "      <td>6195</td>\n",
       "      <td>2021-07-16</td>\n",
       "    </tr>\n",
       "    <tr>\n",
       "      <td>6196</td>\n",
       "      <td>2021-07-17</td>\n",
       "    </tr>\n",
       "  </tbody>\n",
       "</table>\n",
       "</div>"
      ],
      "text/plain": [
       "             ds\n",
       "6192 2021-07-13\n",
       "6193 2021-07-14\n",
       "6194 2021-07-15\n",
       "6195 2021-07-16\n",
       "6196 2021-07-17"
      ]
     },
     "execution_count": 54,
     "metadata": {},
     "output_type": "execute_result"
    }
   ],
   "source": [
    "future = m.make_future_dataframe(periods=365)\n",
    "future.tail()"
   ]
  },
  {
   "cell_type": "code",
   "execution_count": 55,
   "metadata": {},
   "outputs": [],
   "source": [
    "forecast = m.predict(future)"
   ]
  },
  {
   "cell_type": "code",
   "execution_count": 56,
   "metadata": {},
   "outputs": [
    {
     "data": {
      "image/png": "[encoded data removed]",
      "text/plain": [
       "<Figure size 720x432 with 1 Axes>"
      ]
     },
     "metadata": {},
     "output_type": "display_data"
    }
   ],
   "source": [
    "m.plot(forecast);"
   ]
  }
 ],
 "metadata": {
  "kernelspec": {
   "display_name": "Python 3",
   "language": "python",
   "name": "python3"
  },
  "language_info": {
   "codemirror_mode": {
    "name": "ipython",
    "version": 3
   },
   "file_extension": ".py",
   "mimetype": "text/x-python",
   "name": "python",
   "nbconvert_exporter": "python",
   "pygments_lexer": "ipython3",
   "version": "3.7.4"
  }
 },
 "nbformat": 4,
 "nbformat_minor": 2
}
